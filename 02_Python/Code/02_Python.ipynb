{
 "cells": [
  {
   "cell_type": "markdown",
   "metadata": {},
   "source": [
    "* *PATTERN RECOGNITION USING PYTHON* by **Tino Hsu**, Spring, 2019 \n",
    "* Code Repository : https://github.com/TinoHsu/PatternRecognitionCourseShare"
   ]
  },
  {
   "cell_type": "markdown",
   "metadata": {},
   "source": [
    "# ★ Python Basic - Outline"
   ]
  },
  {
   "cell_type": "markdown",
   "metadata": {},
   "source": [
    "* shortcut key\n",
    "* basic operation\n",
    "* vector (numpy array)\n",
    "* visualization (matplotlib & scipy)\n",
    "* **exercise (am modulation)**\n",
    "* matrix & tensor (numpy array)\n",
    "* **exercise (fsk modulation)**"
   ]
  },
  {
   "attachments": {},
   "cell_type": "markdown",
   "metadata": {},
   "source": [
    "## ● Shortcut Key\n",
    "### Key Combination (Effect)\n",
    "\n",
    "* Shift+Enter    (Run this cell and move to next)\n",
    "\n",
    "* Ctrl+Enter     (Run this cell)\n",
    "\n",
    "* Ctrl+/         (Comment)\n",
    "\n",
    "* Ctrl+]         (Increase Indent)\n",
    "\n",
    "* Ctrl+[         (Decrease Indent)\n",
    "\n",
    "* A              (Insert cell above)\n",
    "\n",
    "* B              (Insert cell below)\n",
    "\n",
    "* D D            (Delete cell)"
   ]
  },
  {
   "cell_type": "markdown",
   "metadata": {},
   "source": [
    "## ● Basic Operation"
   ]
  },
  {
   "cell_type": "code",
   "execution_count": 47,
   "metadata": {},
   "outputs": [],
   "source": [
    "a = 1\n",
    "b = 2\n",
    "c = 3\n",
    "d = 4\n",
    "\n",
    "sum = a + b + c + d \n",
    "\n",
    "print('sum=', sum)"
   ]
  },
  {
   "cell_type": "markdown",
   "metadata": {},
   "source": [
    "### Control Flow"
   ]
  },
  {
   "cell_type": "code",
   "execution_count": 48,
   "metadata": {},
   "outputs": [],
   "source": [
    "sum = 0\n",
    "\n",
    "for i in range(5):\n",
    "    print('i=', i)\n",
    "    sum = i + sum\n",
    "\n",
    "print('sum=', sum)"
   ]
  },
  {
   "cell_type": "code",
   "execution_count": 49,
   "metadata": {},
   "outputs": [],
   "source": [
    "sum = 0\n",
    "\n",
    "for i in range(0, 5, 1):\n",
    "    print('i=', i)\n",
    "    sum = i + sum\n",
    "\n",
    "print('sum=', sum)"
   ]
  },
  {
   "attachments": {},
   "cell_type": "markdown",
   "metadata": {},
   "source": [
    "### Encapsulation"
   ]
  },
  {
   "cell_type": "code",
   "execution_count": 50,
   "metadata": {},
   "outputs": [],
   "source": [
    "def summation(start, end):\n",
    "    sum = 0\n",
    "    for i in range(start, end+1, 1):\n",
    "        sum = i + sum\n",
    "    return sum\n",
    "\n",
    "sum_1 = summation(1, 4)\n",
    "print('sum_1=', sum_1)\n",
    "sum_2 = summation(2, 7)\n",
    "print('sum_2=', sum_2)"
   ]
  },
  {
   "attachments": {},
   "cell_type": "markdown",
   "metadata": {},
   "source": [
    "### Conditional Statement"
   ]
  },
  {
   "cell_type": "code",
   "execution_count": 51,
   "metadata": {},
   "outputs": [],
   "source": [
    "num_1 = 1\n",
    "num_2 = 3\n",
    "if num_1 > num_2:\n",
    "    print('num_1 is greater than num_2')\n",
    "else:\n",
    "    print('num_1 is not greater than num_2')"
   ]
  },
  {
   "cell_type": "markdown",
   "metadata": {},
   "source": [
    "## ●  Vector (Numpy Array)"
   ]
  },
  {
   "cell_type": "markdown",
   "metadata": {},
   "source": [
    "### Import Module"
   ]
  },
  {
   "cell_type": "code",
   "execution_count": 52,
   "metadata": {},
   "outputs": [],
   "source": [
    "import numpy as np\n",
    "\n",
    "np1 = np.array([1, 2, 3])\n",
    "np2 = np.array([3, 4, 5])\n",
    "#def dot(a, b):\n",
    "#    c = a*a + b*b\n",
    "#    return c\n",
    "np3 = np.dot(np1, np2)\n",
    "print('outcome=', np3)"
   ]
  },
  {
   "cell_type": "code",
   "execution_count": 53,
   "metadata": {},
   "outputs": [],
   "source": [
    "from numpy import dot, array\n",
    " \n",
    "np4 = array([1, 2, 3])\n",
    "np5 = array([3, 4, 5])\n",
    "#def dot(a, b):\n",
    "#    c = a*a + b*b\n",
    "#    return c\n",
    "np6 = dot(np4, np5)\n",
    "print('outcome=', np6)"
   ]
  },
  {
   "cell_type": "code",
   "execution_count": 54,
   "metadata": {},
   "outputs": [],
   "source": [
    "import numpy\n",
    "np7 = numpy.array([1, 2, 3])\n",
    "np8 = numpy.array([3, 4, 5])\n",
    "#def dot(a, b):\n",
    "#    c = a*a + b*b\n",
    "#    return c\n",
    "np9 = numpy.dot(np1, np2)\n",
    "print('outcome=', np9)"
   ]
  },
  {
   "cell_type": "markdown",
   "metadata": {},
   "source": [
    "### Create Vector "
   ]
  },
  {
   "cell_type": "code",
   "execution_count": 55,
   "metadata": {},
   "outputs": [],
   "source": [
    "import numpy as np\n",
    "vector_1 = np.array([0, 1, 2, 3, 4, 5, 6, 7, 8, 9])\n",
    "print('vector_1=', vector_1)"
   ]
  },
  {
   "cell_type": "code",
   "execution_count": 57,
   "metadata": {},
   "outputs": [],
   "source": [
    "vector_2 = np.arange(10)\n",
    "print('vector_2=', vector_2)"
   ]
  },
  {
   "cell_type": "code",
   "execution_count": 58,
   "metadata": {},
   "outputs": [],
   "source": [
    "vector_3 = np.arange(0, 10, 1)\n",
    "print('vector_3=', vector_3)"
   ]
  },
  {
   "cell_type": "code",
   "execution_count": 59,
   "metadata": {},
   "outputs": [],
   "source": [
    "vector_4 = np.linspace(0, 9, 10)\n",
    "print('vector_4=', vector_4)"
   ]
  },
  {
   "cell_type": "markdown",
   "metadata": {},
   "source": [
    "### Data Type"
   ]
  },
  {
   "cell_type": "code",
   "execution_count": 60,
   "metadata": {},
   "outputs": [],
   "source": [
    "vector_3 = np.arange(0, 10, 1, dtype=np.float32)\n",
    "print('vector_3=', vector_3)\n",
    "# print(vector_3.dtype)"
   ]
  },
  {
   "cell_type": "markdown",
   "metadata": {},
   "source": [
    "### Indexing & Slicing"
   ]
  },
  {
   "cell_type": "code",
   "execution_count": 61,
   "metadata": {},
   "outputs": [],
   "source": [
    "vector = np.arange(10)\n",
    "print(vector)"
   ]
  },
  {
   "cell_type": "code",
   "execution_count": 62,
   "metadata": {},
   "outputs": [],
   "source": [
    "#indexing\n",
    "print(vector[0])\n",
    "print(vector[2])\n",
    "print(vector[-3])\n",
    "print(vector[:])"
   ]
  },
  {
   "cell_type": "code",
   "execution_count": 63,
   "metadata": {},
   "outputs": [],
   "source": [
    "#indexing with stride\n",
    "print(vector[::2])\n",
    "print(vector[::-2])"
   ]
  },
  {
   "cell_type": "code",
   "execution_count": 64,
   "metadata": {},
   "outputs": [],
   "source": [
    "#slice\n",
    "print(vector[3:6])\n",
    "print(vector[:6])\n",
    "print(vector[6:])"
   ]
  },
  {
   "cell_type": "code",
   "execution_count": 65,
   "metadata": {},
   "outputs": [],
   "source": [
    "#slice with stride\n",
    "print(vector[:6:2])\n",
    "print(vector[6::2])"
   ]
  },
  {
   "attachments": {},
   "cell_type": "markdown",
   "metadata": {},
   "source": [
    "### Assignment and Copy"
   ]
  },
  {
   "cell_type": "code",
   "execution_count": 66,
   "metadata": {},
   "outputs": [],
   "source": [
    "import numpy as np\n",
    "a = np.arange(10)\n",
    "b = a\n",
    "# array.itemset():Insert scalar into an array\n",
    "b.itemset(2, 98)\n",
    "if (a == b).all():\n",
    "    print('equal')\n",
    "else:\n",
    "    print('not equal')\n",
    "if a is b:\n",
    "    print('same')\n",
    "else:\n",
    "    print('not same')\n",
    "print(a) \n",
    "print(b)\n",
    "print(id(a))\n",
    "print(id(b))"
   ]
  },
  {
   "cell_type": "code",
   "execution_count": 67,
   "metadata": {},
   "outputs": [],
   "source": [
    "import numpy as np\n",
    "a = np.arange(10)\n",
    "b = a.copy()\n",
    "b.itemset(2, 98)\n",
    "if (a == b).all():\n",
    "    print('equal')\n",
    "else:\n",
    "    print('not equal')\n",
    "if a is b:\n",
    "    print('same')\n",
    "else:\n",
    "    print('not same')\n",
    "print(a) \n",
    "print(b)\n",
    "print(id(a))\n",
    "print(id(b))"
   ]
  },
  {
   "cell_type": "markdown",
   "metadata": {},
   "source": [
    "## ● Visualization (Matplotlib & Scipy)"
   ]
  },
  {
   "cell_type": "markdown",
   "metadata": {},
   "source": [
    "### Import Module"
   ]
  },
  {
   "cell_type": "code",
   "execution_count": 21,
   "metadata": {},
   "outputs": [],
   "source": [
    "import matplotlib.pyplot as plt\n",
    "import scipy.interpolate as spI\n",
    "import numpy as np"
   ]
  },
  {
   "cell_type": "markdown",
   "metadata": {},
   "source": [
    "### Create Vector "
   ]
  },
  {
   "cell_type": "code",
   "execution_count": 22,
   "metadata": {},
   "outputs": [],
   "source": [
    "x = np.linspace(0,10,11) \n",
    "y = np.array([255,58,94,116,75,36,235,95,85,168,3]) "
   ]
  },
  {
   "cell_type": "markdown",
   "metadata": {},
   "source": [
    "### Interpolation"
   ]
  },
  {
   "cell_type": "code",
   "execution_count": 23,
   "metadata": {},
   "outputs": [],
   "source": [
    "xnew = np.linspace(0,10,101) \n",
    "newfunc_l = spI.interp1d(x, y, kind='linear')\n",
    "ynew_l = newfunc_l(xnew)\n",
    "newfunc_g = spI.Rbf(x, y, kind='gaussian')\n",
    "ynew_g = newfunc_g(xnew) "
   ]
  },
  {
   "cell_type": "markdown",
   "metadata": {},
   "source": [
    "### Plot Figure"
   ]
  },
  {
   "cell_type": "code",
   "execution_count": 24,
   "metadata": {},
   "outputs": [
    {
     "data": {
      "image/png": "[encoded data removed]",
      "text/plain": [
       "<Figure size 432x288 with 2 Axes>"
      ]
     },
     "metadata": {
      "needs_background": "light"
     },
     "output_type": "display_data"
    }
   ],
   "source": [
    "plt.subplot(211)\n",
    "plt.plot(xnew,ynew_l,label=str('linear')) \n",
    "plt.plot(x,y,\"ro\") \n",
    "plt.legend(loc=\"lower right\")  \n",
    "plt.subplot(212) \n",
    "plt.plot(xnew,ynew_g,label=str('rbf'))\n",
    "plt.plot(x,y,\"ro\")\n",
    "plt.legend(loc=\"lower right\")\n",
    "plt.show()"
   ]
  },
  {
   "cell_type": "markdown",
   "metadata": {},
   "source": [
    "## ● Exercise (AM modulation)"
   ]
  },
  {
   "cell_type": "code",
   "execution_count": 25,
   "metadata": {
    "scrolled": true
   },
   "outputs": [
    {
     "data": {
      "image/png": "[encoded data removed]",
      "text/plain": [
       "<Figure size 432x288 with 3 Axes>"
      ]
     },
     "metadata": {
      "needs_background": "light"
     },
     "output_type": "display_data"
    }
   ],
   "source": []
  },
  {
   "cell_type": "code",
   "execution_count": null,
   "metadata": {},
   "outputs": [],
   "source": [
    "#import module\n",
    "\n",
    "#frequency\n",
    "f_c = 50 #50Hz\n",
    "...\n",
    "#time\n",
    "t = np.linspace(0, 1, 1000) \n",
    "#carrier\n",
    "carrier = np.cos(2*np.pi*f_c*t)\n",
    "#signal\n",
    "signal = \n",
    "#am = (signal+2)*carrier\n",
    "am = \n",
    "am = am + 0.8*np.random.rand(1000)\n",
    "#plot\n",
    "...\n",
    "plt.show()"
   ]
  },
  {
   "cell_type": "markdown",
   "metadata": {},
   "source": [
    "## ● Matrix & Tensor (Numpy Array)"
   ]
  },
  {
   "cell_type": "markdown",
   "metadata": {},
   "source": [
    "### Create Matrix & Tensor "
   ]
  },
  {
   "cell_type": "code",
   "execution_count": 68,
   "metadata": {},
   "outputs": [],
   "source": [
    "matrix_1 = np.array([[1, 2, 3], [4, 5, 6]])\n",
    "print(matrix_1)\n",
    "tensor_1 = np.array([[[1, 2, 3, 1], [4, 5, 6, 4], [7, 8, 9, 7]],[[3, 6, 9, 3], [12, 15, 18, 12], \n",
    "[28, 32, 36, 28]]])\n",
    "print(tensor_1)"
   ]
  },
  {
   "cell_type": "markdown",
   "metadata": {},
   "source": [
    "### Check Dimension"
   ]
  },
  {
   "cell_type": "code",
   "execution_count": 69,
   "metadata": {},
   "outputs": [],
   "source": [
    "print(matrix_1.shape)\n",
    "print(tensor_1.shape)"
   ]
  },
  {
   "attachments": {},
   "cell_type": "markdown",
   "metadata": {},
   "source": [
    "### Dimension Transformation (Reshape and Resize )"
   ]
  },
  {
   "cell_type": "code",
   "execution_count": 70,
   "metadata": {
    "scrolled": true
   },
   "outputs": [],
   "source": [
    "vector = np.arange(10)\n",
    "matrix_2 = vector.reshape(2, 5)\n",
    "print(matrix_2)\n",
    "print('vector', vector)\n",
    "matrix_3 = vector.resize(2, 5)\n",
    "print(matrix_3)\n",
    "print('vector', vector)"
   ]
  },
  {
   "cell_type": "markdown",
   "metadata": {},
   "source": [
    "### Flatten Matrix (Tensor) to Vector"
   ]
  },
  {
   "cell_type": "code",
   "execution_count": 71,
   "metadata": {
    "scrolled": true
   },
   "outputs": [],
   "source": [
    "vector_r = matrix_2.reshape(matrix_2.shape[0]*matrix_2.shape[1])\n",
    "print(vector_r)\n",
    "vector_f = matrix_2.flatten()\n",
    "print(vector_f)"
   ]
  },
  {
   "cell_type": "markdown",
   "metadata": {},
   "source": [
    "### Study Reshape and Resize in Depth"
   ]
  },
  {
   "cell_type": "code",
   "execution_count": 74,
   "metadata": {},
   "outputs": [],
   "source": [
    "a = np.array([1, 2, 3, \n",
    "4, 5, 6])\n",
    "b = a\n",
    "a.resize(2, 3)\n",
    "print(a) \n",
    "print(b)\n",
    "if a is b:\n",
    "    print('same')\n",
    "else:\n",
    "    print('not same')\n",
    "print(id(a))\n",
    "print(id(b))"
   ]
  },
  {
   "cell_type": "code",
   "execution_count": 75,
   "metadata": {},
   "outputs": [],
   "source": [
    "a = np.array([1, 2, 3,\n",
    " 4, 5, 6])\n",
    "b = a.reshape(2, 3)\n",
    "print(a) \n",
    "print(b)\n",
    "if a is b:\n",
    "    print('same')\n",
    "else:\n",
    "    print('difference')\n",
    "print(id(a))\n",
    "print(id(b))"
   ]
  },
  {
   "cell_type": "markdown",
   "metadata": {},
   "source": [
    "### Indexing & Slicing"
   ]
  },
  {
   "cell_type": "code",
   "execution_count": 76,
   "metadata": {},
   "outputs": [],
   "source": [
    "a = np.arange(16)\n",
    "print(a)\n",
    "b = a.reshape(4, 4)\n",
    "print(b)\n",
    "c = b[[1, 3], 2:]\n",
    "print(c)"
   ]
  },
  {
   "cell_type": "markdown",
   "metadata": {},
   "source": [
    "### Pythonic coding style"
   ]
  },
  {
   "cell_type": "code",
   "execution_count": 77,
   "metadata": {
    "scrolled": true
   },
   "outputs": [],
   "source": [
    "d = np.reshape(np.arange(16), (4, 4))[[1, 3], 2:]\n",
    "print(d)"
   ]
  },
  {
   "cell_type": "markdown",
   "metadata": {},
   "source": [
    "### Array Combination "
   ]
  },
  {
   "cell_type": "code",
   "execution_count": 35,
   "metadata": {},
   "outputs": [],
   "source": [
    "# np.set_printoptions(precision=2)"
   ]
  },
  {
   "cell_type": "code",
   "execution_count": 78,
   "metadata": {},
   "outputs": [],
   "source": [
    "a = np.random.rand(2, 3)\n",
    "print(a)\n",
    "b = np.random.rand(2, 3)\n",
    "print(b)"
   ]
  },
  {
   "cell_type": "markdown",
   "metadata": {},
   "source": [
    "### Vertical Combination"
   ]
  },
  {
   "cell_type": "code",
   "execution_count": 79,
   "metadata": {
    "scrolled": true
   },
   "outputs": [],
   "source": [
    "c = np.concatenate((a, b),axis=0)\n",
    "print(c)\n",
    "print(c.shape)"
   ]
  },
  {
   "cell_type": "markdown",
   "metadata": {},
   "source": [
    "### Horizontal Combination"
   ]
  },
  {
   "cell_type": "code",
   "execution_count": 80,
   "metadata": {},
   "outputs": [],
   "source": [
    "d = np.concatenate((a, b),axis=1)\n",
    "print(d)\n",
    "print(d.shape)"
   ]
  },
  {
   "cell_type": "markdown",
   "metadata": {},
   "source": [
    "## ● Exercise (FSK modulation)"
   ]
  },
  {
   "cell_type": "code",
   "execution_count": 39,
   "metadata": {},
   "outputs": [
    {
     "data": {
      "image/png": "[encoded data removed]",
      "text/plain": [
       "<Figure size 432x288 with 4 Axes>"
      ]
     },
     "metadata": {
      "needs_background": "light"
     },
     "output_type": "display_data"
    }
   ],
   "source": []
  }
 ],
 "metadata": {
  "kernelspec": {
   "display_name": "Python 3",
   "language": "python",
   "name": "python3"
  },
  "language_info": {
   "codemirror_mode": {
    "name": "ipython",
    "version": 3
   },
   "file_extension": ".py",
   "mimetype": "text/x-python",
   "name": "python",
   "nbconvert_exporter": "python",
   "pygments_lexer": "ipython3",
   "version": "3.6.8"
  }
 },
 "nbformat": 4,
 "nbformat_minor": 2
}
